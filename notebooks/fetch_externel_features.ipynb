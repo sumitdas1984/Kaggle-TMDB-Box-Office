{
 "cells": [
  {
   "cell_type": "markdown",
   "metadata": {},
   "source": [
    "## Fetch External Features\n",
    "#### Import package"
   ]
  },
  {
   "cell_type": "code",
   "execution_count": 1,
   "metadata": {},
   "outputs": [],
   "source": [
    "import datetime\n",
    "import dask.dataframe as dd\n",
    "import json\n",
    "import os\n",
    "import pandas as pd\n",
    "import requests\n",
    "\n",
    "from dask.diagnostics import ProgressBar\n",
    "from dask.multiprocessing import get"
   ]
  },
  {
   "cell_type": "markdown",
   "metadata": {},
   "source": [
    "#### Read TMDB API key"
   ]
  },
  {
   "cell_type": "code",
   "execution_count": 2,
   "metadata": {},
   "outputs": [],
   "source": [
    "with open('../api/tmdb.json') as api:\n",
    "    api_key = json.load(api)['api']"
   ]
  },
  {
   "cell_type": "markdown",
   "metadata": {},
   "source": [
    "#### Read training and testing dataset"
   ]
  },
  {
   "cell_type": "code",
   "execution_count": 3,
   "metadata": {},
   "outputs": [],
   "source": [
    "dataset_folder = os.getcwd() + '/../dataset/'\n",
    "train = pd.read_csv(dataset_folder + 'train.csv', index_col=0)\n",
    "test = pd.read_csv(dataset_folder + 'test.csv', index_col=0)\n",
    "\n",
    "dataset = pd.concat([train, test], ignore_index=True, sort=True)\n",
    "dataset = dataset[train.columns]"
   ]
  },
  {
   "cell_type": "code",
   "execution_count": 8,
   "metadata": {},
   "outputs": [
    {
     "data": {
      "text/plain": [
       "(10, 22)"
      ]
     },
     "execution_count": 8,
     "metadata": {},
     "output_type": "execute_result"
    }
   ],
   "source": [
    "dataset = dataset[:10]\n",
    "dataset.shape"
   ]
  },
  {
   "cell_type": "markdown",
   "metadata": {},
   "source": [
    "#### Retreive features 'vote_average' and 'vote_count' using TMDB API"
   ]
  },
  {
   "cell_type": "code",
   "execution_count": 9,
   "metadata": {},
   "outputs": [],
   "source": [
    "def function(x):\n",
    "    response = requests.get('https://api.themoviedb.org/3/movie/' + \n",
    "                            x + '?api_key=' + api_key).json()\n",
    "\n",
    "    vote_average = 0\n",
    "    vote_count = 0\n",
    "    \n",
    "    if 'vote_average' in response:\n",
    "        vote_average = response['vote_average']\n",
    "    if 'vote_count' in response:\n",
    "        vote_count = response['vote_count']\n",
    "    \n",
    "    return pd.Series({'vote_average': vote_average, \n",
    "                      'vote_count': vote_count})"
   ]
  },
  {
   "cell_type": "markdown",
   "metadata": {},
   "source": [
    "#### Partition dataset using dask.dataframe and apply each partition"
   ]
  },
  {
   "cell_type": "code",
   "execution_count": 17,
   "metadata": {
    "scrolled": false
   },
   "outputs": [
    {
     "name": "stdout",
     "output_type": "stream",
     "text": [
      "[########################################] | 100% Completed | 11.1s\n"
     ]
    }
   ],
   "source": [
    "ddata = dd.from_pandas(dataset['imdb_id'], npartitions=50)\n",
    "with ProgressBar():\n",
    "    external_features= ddata.map_partitions(lambda df: df.apply(function)).compute(get=get)  "
   ]
  },
  {
   "cell_type": "markdown",
   "metadata": {},
   "source": [
    "#### Write external features to file"
   ]
  },
  {
   "cell_type": "code",
   "execution_count": 18,
   "metadata": {},
   "outputs": [],
   "source": [
    "time = datetime.datetime.now()\n",
    "time = '{:4d}-{:02d}-{:02d}_{:02d}-{:02d}'.format(time.year, time.month, time.day, time.hour, time.minute)\n",
    "\n",
    "external_features.to_csv(dataset_folder + time + '_external_features.csv', index=None)"
   ]
  },
  {
   "cell_type": "code",
   "execution_count": null,
   "metadata": {},
   "outputs": [],
   "source": []
  }
 ],
 "metadata": {
  "kernelspec": {
   "display_name": "Python 3",
   "language": "python",
   "name": "python3"
  },
  "language_info": {
   "codemirror_mode": {
    "name": "ipython",
    "version": 3
   },
   "file_extension": ".py",
   "mimetype": "text/x-python",
   "name": "python",
   "nbconvert_exporter": "python",
   "pygments_lexer": "ipython3",
   "version": "3.5.6"
  }
 },
 "nbformat": 4,
 "nbformat_minor": 1
}
